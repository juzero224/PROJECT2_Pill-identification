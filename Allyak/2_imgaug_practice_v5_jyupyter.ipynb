{
 "cells": [
  {
   "cell_type": "code",
   "execution_count": 1,
   "id": "6b6c00b9",
   "metadata": {
    "colab": {
     "base_uri": "https://localhost:8080/"
    },
    "id": "6b6c00b9",
    "outputId": "67cd45ee-9467-48c8-e477-f34be60226c3"
   },
   "outputs": [
    {
     "name": "stdout",
     "output_type": "stream",
     "text": [
      "Requirement already satisfied: six in c:\\users\\roh-gram\\anaconda3\\lib\\site-packages (1.16.0)\n",
      "Requirement already satisfied: numpy in c:\\users\\roh-gram\\anaconda3\\lib\\site-packages (1.21.5)\n",
      "Requirement already satisfied: scipy in c:\\users\\roh-gram\\anaconda3\\lib\\site-packages (1.7.3)\n",
      "Requirement already satisfied: Pillow in c:\\users\\roh-gram\\anaconda3\\lib\\site-packages (9.0.1)\n",
      "Requirement already satisfied: matplotlib in c:\\users\\roh-gram\\anaconda3\\lib\\site-packages (3.5.1)\n",
      "Requirement already satisfied: scikit-image in c:\\users\\roh-gram\\anaconda3\\lib\\site-packages (0.19.2)\n",
      "Requirement already satisfied: opencv-python in c:\\users\\roh-gram\\anaconda3\\lib\\site-packages (4.6.0.66)\n",
      "Requirement already satisfied: imageio in c:\\users\\roh-gram\\anaconda3\\lib\\site-packages (2.9.0)\n",
      "Requirement already satisfied: Shapely in c:\\users\\roh-gram\\anaconda3\\lib\\site-packages (1.8.2)\n",
      "Requirement already satisfied: pyparsing>=2.2.1 in c:\\users\\roh-gram\\anaconda3\\lib\\site-packages (from matplotlib) (3.0.4)\n",
      "Requirement already satisfied: python-dateutil>=2.7 in c:\\users\\roh-gram\\anaconda3\\lib\\site-packages (from matplotlib) (2.8.2)\n",
      "Requirement already satisfied: fonttools>=4.22.0 in c:\\users\\roh-gram\\anaconda3\\lib\\site-packages (from matplotlib) (4.25.0)\n",
      "Requirement already satisfied: kiwisolver>=1.0.1 in c:\\users\\roh-gram\\anaconda3\\lib\\site-packages (from matplotlib) (1.3.2)\n",
      "Requirement already satisfied: packaging>=20.0 in c:\\users\\roh-gram\\anaconda3\\lib\\site-packages (from matplotlib) (21.3)\n",
      "Requirement already satisfied: cycler>=0.10 in c:\\users\\roh-gram\\anaconda3\\lib\\site-packages (from matplotlib) (0.11.0)\n",
      "Requirement already satisfied: networkx>=2.2 in c:\\users\\roh-gram\\anaconda3\\lib\\site-packages (from scikit-image) (2.7.1)\n",
      "Requirement already satisfied: PyWavelets>=1.1.1 in c:\\users\\roh-gram\\anaconda3\\lib\\site-packages (from scikit-image) (1.3.0)\n",
      "Requirement already satisfied: tifffile>=2019.7.26 in c:\\users\\roh-gram\\anaconda3\\lib\\site-packages (from scikit-image) (2021.7.2)\n"
     ]
    }
   ],
   "source": [
    "!pip install six numpy scipy Pillow matplotlib scikit-image opencv-python imageio Shapely"
   ]
  },
  {
   "cell_type": "code",
   "execution_count": 2,
   "id": "acbb57b7",
   "metadata": {
    "colab": {
     "base_uri": "https://localhost:8080/"
    },
    "id": "acbb57b7",
    "outputId": "0ec8572c-6d81-4307-cad1-e765f04ea8f2"
   },
   "outputs": [
    {
     "name": "stdout",
     "output_type": "stream",
     "text": [
      "Requirement already satisfied: imgaug in c:\\users\\roh-gram\\anaconda3\\lib\\site-packages (0.4.0)\n",
      "Requirement already satisfied: opencv-python in c:\\users\\roh-gram\\anaconda3\\lib\\site-packages (from imgaug) (4.6.0.66)\n",
      "Requirement already satisfied: scipy in c:\\users\\roh-gram\\anaconda3\\lib\\site-packages (from imgaug) (1.7.3)\n",
      "Requirement already satisfied: matplotlib in c:\\users\\roh-gram\\anaconda3\\lib\\site-packages (from imgaug) (3.5.1)\n",
      "Requirement already satisfied: numpy>=1.15 in c:\\users\\roh-gram\\anaconda3\\lib\\site-packages (from imgaug) (1.21.5)\n",
      "Requirement already satisfied: six in c:\\users\\roh-gram\\anaconda3\\lib\\site-packages (from imgaug) (1.16.0)\n",
      "Requirement already satisfied: Pillow in c:\\users\\roh-gram\\anaconda3\\lib\\site-packages (from imgaug) (9.0.1)\n",
      "Requirement already satisfied: scikit-image>=0.14.2 in c:\\users\\roh-gram\\anaconda3\\lib\\site-packages (from imgaug) (0.19.2)\n",
      "Requirement already satisfied: imageio in c:\\users\\roh-gram\\anaconda3\\lib\\site-packages (from imgaug) (2.9.0)\n",
      "Requirement already satisfied: Shapely in c:\\users\\roh-gram\\anaconda3\\lib\\site-packages (from imgaug) (1.8.2)\n",
      "Requirement already satisfied: packaging>=20.0 in c:\\users\\roh-gram\\anaconda3\\lib\\site-packages (from scikit-image>=0.14.2->imgaug) (21.3)\n",
      "Requirement already satisfied: networkx>=2.2 in c:\\users\\roh-gram\\anaconda3\\lib\\site-packages (from scikit-image>=0.14.2->imgaug) (2.7.1)\n",
      "Requirement already satisfied: PyWavelets>=1.1.1 in c:\\users\\roh-gram\\anaconda3\\lib\\site-packages (from scikit-image>=0.14.2->imgaug) (1.3.0)\n",
      "Requirement already satisfied: tifffile>=2019.7.26 in c:\\users\\roh-gram\\anaconda3\\lib\\site-packages (from scikit-image>=0.14.2->imgaug) (2021.7.2)\n",
      "Requirement already satisfied: pyparsing!=3.0.5,>=2.0.2 in c:\\users\\roh-gram\\anaconda3\\lib\\site-packages (from packaging>=20.0->scikit-image>=0.14.2->imgaug) (3.0.4)\n",
      "Requirement already satisfied: cycler>=0.10 in c:\\users\\roh-gram\\anaconda3\\lib\\site-packages (from matplotlib->imgaug) (0.11.0)\n",
      "Requirement already satisfied: fonttools>=4.22.0 in c:\\users\\roh-gram\\anaconda3\\lib\\site-packages (from matplotlib->imgaug) (4.25.0)\n",
      "Requirement already satisfied: python-dateutil>=2.7 in c:\\users\\roh-gram\\anaconda3\\lib\\site-packages (from matplotlib->imgaug) (2.8.2)\n",
      "Requirement already satisfied: kiwisolver>=1.0.1 in c:\\users\\roh-gram\\anaconda3\\lib\\site-packages (from matplotlib->imgaug) (1.3.2)\n"
     ]
    }
   ],
   "source": [
    "!pip install imgaug"
   ]
  },
  {
   "cell_type": "code",
   "execution_count": 3,
   "id": "ff82f474",
   "metadata": {
    "colab": {
     "base_uri": "https://localhost:8080/"
    },
    "id": "ff82f474",
    "outputId": "f8183bbd-59b4-4401-f1bc-8a3f23b29db7"
   },
   "outputs": [
    {
     "name": "stdout",
     "output_type": "stream",
     "text": [
      "Requirement already satisfied: files in c:\\users\\roh-gram\\anaconda3\\lib\\site-packages (1.1.1)\n"
     ]
    }
   ],
   "source": [
    "!pip install files"
   ]
  },
  {
   "cell_type": "code",
   "execution_count": 4,
   "id": "sxQRcE-LGup-",
   "metadata": {
    "colab": {
     "base_uri": "https://localhost:8080/"
    },
    "id": "sxQRcE-LGup-",
    "outputId": "9a784591-59eb-4fb0-fec3-de79b3000601"
   },
   "outputs": [
    {
     "name": "stdout",
     "output_type": "stream",
     "text": [
      "Requirement already satisfied: pascal-voc-writer in c:\\users\\roh-gram\\anaconda3\\lib\\site-packages (0.1.4)\n",
      "Requirement already satisfied: jinja2 in c:\\users\\roh-gram\\anaconda3\\lib\\site-packages (from pascal-voc-writer) (2.11.3)\n",
      "Requirement already satisfied: MarkupSafe>=0.23 in c:\\users\\roh-gram\\anaconda3\\lib\\site-packages (from jinja2->pascal-voc-writer) (2.0.1)\n"
     ]
    }
   ],
   "source": [
    "!pip install pascal-voc-writer"
   ]
  },
  {
   "cell_type": "code",
   "execution_count": null,
   "id": "MXu_lX1shYsF",
   "metadata": {
    "id": "MXu_lX1shYsF"
   },
   "outputs": [],
   "source": []
  },
  {
   "cell_type": "code",
   "execution_count": 5,
   "id": "4OD3MZSqr0PT",
   "metadata": {
    "colab": {
     "base_uri": "https://localhost:8080/"
    },
    "id": "4OD3MZSqr0PT",
    "outputId": "7d46b834-ac69-42ab-f435-35e77ecee48d"
   },
   "outputs": [],
   "source": [
    "# from google.colab import drive\n",
    "# drive.mount('/content/drive')"
   ]
  },
  {
   "cell_type": "code",
   "execution_count": 6,
   "id": "d9722622",
   "metadata": {
    "id": "d9722622"
   },
   "outputs": [],
   "source": [
    "def f_unzip(source_file, dest_path='./', enc_type='cp437', dec_type='cp949'):\n",
    "    '''\n",
    "    설명: 압축 파일을 지정된 디렉토리에 압축 풀기, 상태바 표시\n",
    "    입력: unzip(압축 파일 경로명, 압축 풀 디렉토리 명)\n",
    "    출력: 설정한 디렉토리에 압축 푼 파일 생성\n",
    "    예시: src_file = '/content/drive/MyDrive/test.zip'\n",
    "         des_path = '/content/img/'\n",
    "         f_unzip(src_file, des_path)\n",
    "    '''\n",
    "    import zipfile\n",
    "    import progressbar\n",
    "    import time\n",
    "    \n",
    "    with zipfile.ZipFile(source_file, 'r') as zf:\n",
    "        zipInfo = zf.infolist()\n",
    "        bar = progressbar.ProgressBar(maxval=len(zipInfo)).start()\n",
    "        \n",
    "        for i, member in enumerate(zipInfo, start=0):\n",
    "            try:\n",
    "                # print(member.filename.encode(enc_type).decode(dec_type))\n",
    "                member.filename = member.filename.encode(enc_type).decode(dec_type)\n",
    "                zf.extract(member, dest_path)\n",
    "                bar.update(i)\n",
    "            except:\n",
    "                print(member.filename)\n",
    "                raise Exception('what?!')\n",
    "                \n",
    "    bar.finish()\n"
   ]
  },
  {
   "cell_type": "code",
   "execution_count": 7,
   "id": "igi7BYc94if4",
   "metadata": {
    "id": "igi7BYc94if4"
   },
   "outputs": [],
   "source": [
    "def f_create_dir(dir_name):\n",
    "    '''\n",
    "    설명: 만들려는 디렉토리가 없으면 생성\n",
    "    입력: 경로 + 새 디렉토리 이름\n",
    "    출력: x\n",
    "    예시: createDirectory('./test')\n",
    "    '''\n",
    "    import os\n",
    "    \n",
    "    try:\n",
    "        if not os.path.exists(dir_name):\n",
    "            os.makedirs(dir_name)\n",
    "    except OSError:\n",
    "        print(\"Error: Failed to create the directory.\")\n",
    "        "
   ]
  },
  {
   "cell_type": "code",
   "execution_count": 8,
   "id": "00f4dde1",
   "metadata": {
    "id": "00f4dde1"
   },
   "outputs": [],
   "source": [
    "def f_hangule_yn(str):\n",
    "    hangul = re.compile('[^ㄱ-ㅣ가-힣]+')\n",
    "    \n",
    "    if hangul.sub('', str) != '':  # 한글이 있으면\n",
    "        return True\n",
    "    else:\n",
    "        return False"
   ]
  },
  {
   "cell_type": "code",
   "execution_count": 9,
   "id": "02f6ec00",
   "metadata": {
    "id": "02f6ec00"
   },
   "outputs": [],
   "source": [
    "def f_dir_list(des_dir):\n",
    "    '''\n",
    "    des_dir 안의 디렉토리 이름을 리스트로 반환\n",
    "    '''\n",
    "    dir_names = []\n",
    "    \n",
    "    with os.scandir(des_dir) as entries:\n",
    "        for entry in entries:\n",
    "            if entry.is_dir():\n",
    "                dir_names.append(entry.name)\n",
    "                \n",
    "    return dir_names"
   ]
  },
  {
   "cell_type": "code",
   "execution_count": 10,
   "id": "3b2116c7",
   "metadata": {
    "id": "3b2116c7"
   },
   "outputs": [],
   "source": [
    "def f_save_img(img_path, img_data):\n",
    "    '''\n",
    "    한글 경로 여부를 판단하여 이미지 저장\n",
    "    '''\n",
    "    import cv2\n",
    "    \n",
    "    # 한글 경로인 경우\n",
    "    if f_hangule_yn(img_path) == True:\n",
    "        result, encoded_img = cv2.imencode('.'+img_ext, img_data)\n",
    "        if result == True:\n",
    "            with open(img_path, mode='w+b') as f:\n",
    "                encoded_img.tofile(f)\n",
    "    else:\n",
    "        cv2.imwrite(img_path, img_data)"
   ]
  },
  {
   "cell_type": "code",
   "execution_count": 11,
   "id": "eW9URfKg9y0P",
   "metadata": {
    "id": "eW9URfKg9y0P"
   },
   "outputs": [],
   "source": [
    "import xml.etree.ElementTree as ET\n",
    "\n",
    "def read_anntation(xml_file: str):\n",
    "    '''\n",
    "    xml 파일 읽어서, 좌표 반환\n",
    "    '''\n",
    "    # print('read_anntation:', str)\n",
    "    tree = ET.parse(xml_file)\n",
    "    root = tree.getroot()\n",
    "\n",
    "    bounding_box_list = []\n",
    "    \n",
    "    file_name = root.find('filename').text\n",
    "    # print('read_anntation:', file_name)\n",
    "    for obj in root.iter('object'):\n",
    "\n",
    "        object_label = obj.find(\"name\").text\n",
    "        for box in obj.findall(\"bndbox\"):\n",
    "            x_min = int(box.find(\"xmin\").text)\n",
    "            y_min = int(box.find(\"ymin\").text)\n",
    "            x_max = int(box.find(\"xmax\").text)\n",
    "            y_max = int(box.find(\"ymax\").text)\n",
    "\n",
    "        bounding_box = [object_label, x_min, y_min, x_max, y_max]\n",
    "        bounding_box_list.append(bounding_box)\n",
    "\n",
    "    return bounding_box_list, file_name"
   ]
  },
  {
   "cell_type": "code",
   "execution_count": 12,
   "id": "374e5cdd",
   "metadata": {
    "id": "374e5cdd"
   },
   "outputs": [],
   "source": [
    "import os\n",
    "import cv2\n",
    "import numpy as np\n",
    "import re\n",
    "\n",
    "def read_train_dataset_2(dir):\n",
    "    '''\n",
    "    디렉토리 안에 이미지 파일, xml 파일명 반환\n",
    "    '''\n",
    "    images = []\n",
    "    annotations = []\n",
    "    images_ext = []\n",
    "\n",
    "    for file in os.listdir(dir):\n",
    "        if 'jpg' in file.lower() or 'png' in file.lower():\n",
    "            # 경로와 파일명에 한글 포함 여부에 따라 이미지 파일 읽기\n",
    "            img_path = os.path.join(dir, file)\n",
    "            \n",
    "            hangul = re.compile('[^ㄱ-ㅣ가-힣]+')\n",
    "            \n",
    "            if hangul.sub('', img_path) != '':  # 한글이 있으면\n",
    "                img_ary = np.fromfile(img_path, np.uint8)\n",
    "                img = cv2.imdecode(img_ary, cv2.IMREAD_UNCHANGED)\n",
    "            else:\n",
    "                img = cv2.imread(img_path, cv2.IMREAD_UNCHANGED)\n",
    "            \n",
    "            # 이미지에 alpha 채널 있으면 제거\n",
    "            if img.shape[2] == 4:  # (150, 150, 4)\n",
    "                img = cv2.cvtColor(img, cv2.COLOR_RGBA2RGB)\n",
    "                \n",
    "            # 이미지 확장자\n",
    "            img_ext = file.split('.')[-1].lower()\n",
    "            images_ext.append(img_ext)\n",
    "            \n",
    "            # xml 파일\n",
    "            xml_file = file.replace(img_ext, 'xml')\n",
    "            xml_path = os.path.join(dir, xml_file)\n",
    "            \n",
    "            # xml 파일이 있으면\n",
    "            if os.path.isfile(xml_path):\n",
    "                # 이미지 배열에 이미지 추가\n",
    "                images.append(img)\n",
    "                \n",
    "                bounding_box_list, file_name = read_anntation(xml_path)\n",
    "                annotations.append((bounding_box_list, xml_file, file_name))\n",
    "            else:\n",
    "                print('xml 파일 없음:', xml_path)\n",
    "                \n",
    "    images = np.array(images)\n",
    "    \n",
    "    return images, annotations, images_ext\n"
   ]
  },
  {
   "cell_type": "code",
   "execution_count": 13,
   "id": "8fd9642c",
   "metadata": {
    "id": "8fd9642c"
   },
   "outputs": [],
   "source": [
    "def f_img_bgd_cut(img_data, bbox, img_ext):\n",
    "    '''\n",
    "    입력: 이미지 데이터, bounding box 좌표\n",
    "    기능: grabcut 으로 이미지 배경 제거\n",
    "    출력: 이미지 데이터 \n",
    "    '''\n",
    "    import numpy as np\n",
    "    \n",
    "    # 사각형 좌표\n",
    "    rectangle = bbox\n",
    "    \n",
    "    # png 파일이면 grabCut 하기 위해 알파채널 제거\n",
    "    if img_ext == 'png':\n",
    "        img_data = cv2.cvtColor(img_data, cv2.COLOR_RGBA2RGB)\n",
    "    \n",
    "    # 초기 마스크 생성\n",
    "    mask = np.zeros(img_data.shape[:2], np.uint8)\n",
    "    \n",
    "    # grabCut에 사용할 임시 배열 생성\n",
    "    bgdModel = np.zeros((1, 65), np.float64)\n",
    "    fgdModel = np.zeros((1, 65), np.float64)\n",
    "    \n",
    "    # grabCut 실행\n",
    "    cv2.grabCut(img_data,  # 원본 이미지\n",
    "               mask,       # 마스크\n",
    "               rectangle,  # 사각형\n",
    "               bgdModel,   # 배경을 위한 임시 배열\n",
    "               fgdModel,   # 전경을 위한 임시 배열 \n",
    "               5,          # 반복 횟수\n",
    "               cv2.GC_INIT_WITH_RECT) # 사각형을 위한 초기화\n",
    "    \n",
    "    # 배경인 곳은 0, 그 외에는 1로 설정한 마스크 생성\n",
    "    mask_2 = np.where((mask==2) | (mask==0), 0, 1).astype('uint8')\n",
    "    \n",
    "    # 이미지에 새로운 마스크를 곱해 배경을 제외\n",
    "    img = img_data * mask_2[:, :, np.newaxis]\n",
    "    \n",
    "    return img\n",
    "    \n",
    "#     tmp = cv2.cvtColor(img, cv2.COLOR_BGR2GRAY)\n",
    "#     _,alpha = cv2.threshold(tmp,0,255,cv2.THRESH_BINARY)\n",
    "#     b, g, r = cv2.split(img)\n",
    "#     rgba = [b,g,r, alpha]\n",
    "#     dst = cv2.merge(rgba, 4)\n",
    "\n",
    "    # BGR -> RGB\n",
    "#     img = cv2.cvtColor(img, cv2.COLOR_BGR2RGB)\n",
    "    \n",
    "#     # plot\n",
    "#     plt.imshow(img)\n",
    "#     plt.show()\n",
    "    \n",
    "    return img\n",
    "    "
   ]
  },
  {
   "cell_type": "code",
   "execution_count": 14,
   "id": "SOFkXNRokwQn",
   "metadata": {
    "id": "SOFkXNRokwQn"
   },
   "outputs": [],
   "source": [
    "from imgaug import augmenters as iaa\n",
    "\n",
    "# augmenters\n",
    "seq_01 = iaa.Sequential([\n",
    "    iaa.Multiply((1.2, 1.5)),  # 숫자 클 수록 하얗게\n",
    "    iaa.Affine(\n",
    "        scale = (1, 1)  # 확대 축소\n",
    "    )\n",
    "])\n",
    "seq_02 = iaa.Sequential([\n",
    "    iaa.Affine(\n",
    "        scale=(0.5, 0.7)  # 축소\n",
    "    )\n",
    "])\n",
    "seq_03 = iaa.Sequential([\n",
    "    iaa.Affine(\n",
    "        scale=(1.5, 1.7)  # 확대\n",
    "    )\n",
    "])\n",
    "seq_04 = iaa.Sequential([\n",
    "    iaa.Affine(\n",
    "        rotate = 45       # 회전\n",
    "    )\n",
    "])\n",
    "seq_05 = iaa.Sequential([\n",
    "    iaa.Affine(\n",
    "        rotate = -45       # 회전\n",
    "    )\n",
    "])\n",
    "seq_06 = iaa.Sequential([\n",
    "    iaa.Affine(\n",
    "        translate_px = {\"x\": -80, \"y\": 0}  # 가로축 이동\n",
    "    )\n",
    "])\n",
    "seq_07 = iaa.Sequential([\n",
    "    iaa.Affine(\n",
    "        translate_px = {\"x\": 0, \"y\": -80}  # 세로축 이동\n",
    "    )\n",
    "])\n",
    "seq_08 = iaa.Sequential([\n",
    "        iaa.GaussianBlur(sigma=(4.0, 4.0)) # 흐리게\n",
    "])\n",
    "seq_09 = iaa.Sequential([\n",
    "        iaa.MotionBlur(k=20)  # 모션 블러\n",
    "])\n",
    "seq_10 = iaa.Sequential([\n",
    "        iaa.AdditiveGaussianNoise(scale=0.1*255)  # 가우시안 노이즈\n",
    "])\n",
    "seq_11 = iaa.Sequential([\n",
    "        iaa.Grayscale(alpha=(0.8, 0.8)),\n",
    "        iaa.ShearX((-20, 20))\n",
    "])\n",
    "seq_12 = iaa.Sequential([\n",
    "        iaa.BlendAlpha((0.0, 1.0),\n",
    "                       foreground=iaa.Add(100),\n",
    "                       background=iaa.Multiply(0.3))\n",
    "])\n",
    "seq_13 = iaa.Sequential([\n",
    "        iaa.ElasticTransformation(alpha=(0, 5.0), sigma=0.2),\n",
    "        iaa.Affine(shear=(16, -16)),\n",
    "        iaa.Affine(rotate=(35, 45))\n",
    "])\n",
    "seq_14 = iaa.Sequential([\n",
    "        iaa.Add((-40, 40), per_channel=0.5)\n",
    "])\n",
    "seq_15 = iaa.Sequential([\n",
    "        iaa.AdditiveLaplaceNoise(scale=0.2*255, per_channel=True)\n",
    "])\n",
    "seq_16 = iaa.Sequential([\n",
    "        iaa.MeanShiftBlur()\n",
    "])\n",
    "seq_17 = iaa.Sequential([\n",
    "        iaa.Canny(alpha=(0.0, 0.5))\n",
    "])\n",
    "seq_18 = iaa.Sequential([\n",
    "        iaa.pillike.Autocontrast((10, 20), per_channel=True)\n",
    "])\n",
    "seq_19 = iaa.Sequential([\n",
    "        iaa.pillike.FilterEmboss()\n",
    "])\n",
    "seq_20 = iaa.Sequential([\n",
    "        iaa.pillike.FilterEdgeEnhance()\n",
    "])\n",
    "\n",
    "# 위의 추가한 시퀀셜을 리스트에 추가\n",
    "# aug_list = [seq_01, seq_02, seq_03, seq_04, seq_05, seq_06, seq_07, seq_08, seq_09, seq_10,\n",
    "#             seq_11, seq_12, seq_13, seq_14, seq_15, seq_16, seq_17, seq_18, seq_19, seq_20\n",
    "#             ]\n",
    "aug_list = [seq_01, seq_02, seq_08, seq_09, seq_10\n",
    "#             , seq_11, seq_12, seq_14, seq_15\n",
    "           ]\n",
    "# seq_03, 04, 05, 06, 07, 13  >>  bounding box 좌표에서 마이너스 값 나와서 제외\n"
   ]
  },
  {
   "cell_type": "code",
   "execution_count": null,
   "id": "d4756927",
   "metadata": {
    "id": "d4756927"
   },
   "outputs": [],
   "source": []
  },
  {
   "cell_type": "code",
   "execution_count": 17,
   "id": "b0d904f5",
   "metadata": {
    "id": "b0d904f5"
   },
   "outputs": [],
   "source": [
    "# 압축 파일 디렉토리, 이름\n",
    "src_root_dir = './alyac_img_label/google_drive'\n",
    "# src_root_dir = '/content/drive/MyDrive/그게뭐약/alyac_crop'\n",
    "src_name = [\n",
    "            '2070.탁센연질캡슐(나프록센)'\n",
    "            ,'3324.로프민캡슐'\n",
    "            ,'3982.애드빌정(이부프로펜)'\n",
    "            ,'8998.이소티논연질캡슐10밀리그램'\n",
    "            ,'12063.한미오메가연질캡슐1000밀리그램'\n",
    "            ,'17159.제스부틴정'\n",
    "            ,'17458.캐롤비콜드연질캡슐'\n",
    "            ,'22074.모드콜에스연질캡슐'\n",
    "            ,'22408.이지엔6프로연질캡슐'\n",
    "            ,'22605.타이레놀정500밀리그람'\n",
    "           ]\n",
    "\n",
    "# 작업 할 디렉토리\n",
    "des_root_dir = './alyac_img_label/google_drive'\n",
    "# des_root_dir = '/content/drive/MyDrive/그게뭐약/alyac_tmp'"
   ]
  },
  {
   "cell_type": "code",
   "execution_count": 18,
   "id": "db893999",
   "metadata": {
    "colab": {
     "base_uri": "https://localhost:8080/"
    },
    "id": "db893999",
    "outputId": "004b5b0a-eecb-43d0-f64f-43c22c186bfc"
   },
   "outputs": [
    {
     "name": "stderr",
     "output_type": "stream",
     "text": [
      "100% |########################################################################|\n",
      "100% |########################################################################|\n",
      "100% |########################################################################|\n",
      "100% |########################################################################|\n",
      "100% |########################################################################|\n",
      "100% |########################################################################|\n",
      "100% |########################################################################|\n",
      "100% |########################################################################|\n",
      "100% |########################################################################|\n",
      "100% |########################################################################|\n"
     ]
    }
   ],
   "source": [
    "'''\n",
    "압축 풀기\n",
    "\n",
    "0.약이름_crop.zip 파일만 압축 풀기 가능\n",
    "'''\n",
    "import os\n",
    "\n",
    "for i in range(len(src_name)):\n",
    "    # 압축 파일명 생성\n",
    "    src_zip = src_name[i] + '_crop.zip'\n",
    "    src_path = os.path.join(src_root_dir, src_zip)\n",
    "    \n",
    "    # 압축 파일이 있으면\n",
    "    if os.path.isfile(src_path):\n",
    "        # 압축 풀 디렉토리 생성\n",
    "        des_dir_name = src_name[i] + '_crop'\n",
    "        des_dir = os.path.join(des_root_dir, des_dir_name)\n",
    "        f_create_dir(des_dir)\n",
    "        \n",
    "        # 압축 풀기\n",
    "        f_unzip(src_path, des_dir)\n",
    "        \n",
    "    else:\n",
    "        print('압축 파일 없음:', src_path)"
   ]
  },
  {
   "cell_type": "code",
   "execution_count": 19,
   "id": "44d2c503",
   "metadata": {},
   "outputs": [
    {
     "name": "stdout",
     "output_type": "stream",
     "text": [
      "2070.탁센연질캡슐(나프록센)\n"
     ]
    },
    {
     "name": "stderr",
     "output_type": "stream",
     "text": [
      "100% |########################################################################|\n"
     ]
    },
    {
     "name": "stdout",
     "output_type": "stream",
     "text": [
      "3324.로프민캡슐\n"
     ]
    },
    {
     "name": "stderr",
     "output_type": "stream",
     "text": [
      "100% |########################################################################|\n"
     ]
    },
    {
     "name": "stdout",
     "output_type": "stream",
     "text": [
      "3982.애드빌정(이부프로펜)\n"
     ]
    },
    {
     "name": "stderr",
     "output_type": "stream",
     "text": [
      "100% |########################################################################|\n"
     ]
    },
    {
     "name": "stdout",
     "output_type": "stream",
     "text": [
      "8998.이소티논연질캡슐10밀리그램\n"
     ]
    },
    {
     "name": "stderr",
     "output_type": "stream",
     "text": [
      "100% |########################################################################|\n"
     ]
    },
    {
     "name": "stdout",
     "output_type": "stream",
     "text": [
      "12063.한미오메가연질캡슐1000밀리그램\n"
     ]
    },
    {
     "name": "stderr",
     "output_type": "stream",
     "text": [
      "100% |########################################################################|\n"
     ]
    },
    {
     "name": "stdout",
     "output_type": "stream",
     "text": [
      "17159.제스부틴정\n"
     ]
    },
    {
     "name": "stderr",
     "output_type": "stream",
     "text": [
      "100% |########################################################################|\n"
     ]
    },
    {
     "name": "stdout",
     "output_type": "stream",
     "text": [
      "17458.캐롤비콜드연질캡슐\n"
     ]
    },
    {
     "name": "stderr",
     "output_type": "stream",
     "text": [
      "100% |########################################################################|\n"
     ]
    },
    {
     "name": "stdout",
     "output_type": "stream",
     "text": [
      "22074.모드콜에스연질캡슐\n"
     ]
    },
    {
     "name": "stderr",
     "output_type": "stream",
     "text": [
      "100% |########################################################################|\n"
     ]
    },
    {
     "name": "stdout",
     "output_type": "stream",
     "text": [
      "22408.이지엔6프로연질캡슐\n"
     ]
    },
    {
     "name": "stderr",
     "output_type": "stream",
     "text": [
      "100% |########################################################################|\n"
     ]
    },
    {
     "name": "stdout",
     "output_type": "stream",
     "text": [
      "22605.타이레놀정500밀리그람\n"
     ]
    },
    {
     "name": "stderr",
     "output_type": "stream",
     "text": [
      "100% |########################################################################|\n"
     ]
    }
   ],
   "source": [
    "'''\n",
    "이미지 복붙 늘리기\n",
    "\n",
    "0.약이름_crop 폴더에 있는 _crop 이미지를,\n",
    "복붙 방식으로 두배 이상으로 늘려서, 같은 폴더에 저장\n",
    "\n",
    "'''\n",
    "import os\n",
    "import shutil\n",
    "import progressbar\n",
    "import time\n",
    "\n",
    "for i in range(len(src_name)):\n",
    "    print(src_name[i])\n",
    "    time.sleep(0.5)\n",
    "    \n",
    "    # _crop 디렉토리 경로\n",
    "    crop_dir_name = src_name[i] + '_crop'\n",
    "    crop_dir = os.path.join(des_root_dir, crop_dir_name)\n",
    "    \n",
    "    # _crop 디렉토리가 없으면 중지\n",
    "    if os.path.isdir(crop_dir) == False:\n",
    "        print('_crop 디렉토리 없음:', crop_dir)\n",
    "        break\n",
    "        \n",
    "    # 파일명 읽어와서 _001 -> _101 로 바꿔서 복붙\n",
    "    items = os.listdir(crop_dir)\n",
    "    \n",
    "    bar = progressbar.ProgressBar(maxval=len(items)).start()\n",
    "    for i, item in enumerate(items):\n",
    "        # 파일이 아니면\n",
    "        if os.path.isfile(os.path.join(crop_dir, item)) == False:\n",
    "            continue\n",
    "        \n",
    "        # 파일이면 파일명, 확장자 분리\n",
    "        file_name, file_ext = os.path.splitext(item)\n",
    "        \n",
    "        # _001 -> _101 변경\n",
    "        tmp_num = int(file_name[-3:]) + 100\n",
    "        new_file_name = file_name[:-3] + str(tmp_num) + file_ext\n",
    "        \n",
    "        # 복붙\n",
    "        src_path = os.path.join(crop_dir, item)\n",
    "        des_path = os.path.join(crop_dir, new_file_name)\n",
    "        shutil.copy2(src_path, des_path)\n",
    "        \n",
    "        bar.update(i)\n",
    "        \n",
    "    bar.finish()"
   ]
  },
  {
   "cell_type": "code",
   "execution_count": 20,
   "id": "7e390dc5",
   "metadata": {
    "colab": {
     "base_uri": "https://localhost:8080/",
     "height": 519
    },
    "id": "7e390dc5",
    "outputId": "f7bb058d-2b36-4b04-9717-a55d1177d628"
   },
   "outputs": [
    {
     "name": "stdout",
     "output_type": "stream",
     "text": [
      "0: 2070.탁센연질캡슐(나프록센)\n"
     ]
    },
    {
     "name": "stderr",
     "output_type": "stream",
     "text": [
      "100% |########################################################################|\n"
     ]
    },
    {
     "name": "stdout",
     "output_type": "stream",
     "text": [
      "1: 3324.로프민캡슐\n"
     ]
    },
    {
     "name": "stderr",
     "output_type": "stream",
     "text": [
      "100% |########################################################################|\n"
     ]
    },
    {
     "name": "stdout",
     "output_type": "stream",
     "text": [
      "2: 3982.애드빌정(이부프로펜)\n"
     ]
    },
    {
     "name": "stderr",
     "output_type": "stream",
     "text": [
      "100% |########################################################################|\n"
     ]
    },
    {
     "name": "stdout",
     "output_type": "stream",
     "text": [
      "3: 8998.이소티논연질캡슐10밀리그램\n"
     ]
    },
    {
     "name": "stderr",
     "output_type": "stream",
     "text": [
      "100% |########################################################################|\n"
     ]
    },
    {
     "name": "stdout",
     "output_type": "stream",
     "text": [
      "4: 12063.한미오메가연질캡슐1000밀리그램\n"
     ]
    },
    {
     "name": "stderr",
     "output_type": "stream",
     "text": [
      "100% |########################################################################|\n"
     ]
    },
    {
     "name": "stdout",
     "output_type": "stream",
     "text": [
      "5: 17159.제스부틴정\n"
     ]
    },
    {
     "name": "stderr",
     "output_type": "stream",
     "text": [
      "100% |########################################################################|\n"
     ]
    },
    {
     "name": "stdout",
     "output_type": "stream",
     "text": [
      "6: 17458.캐롤비콜드연질캡슐\n"
     ]
    },
    {
     "name": "stderr",
     "output_type": "stream",
     "text": [
      "100% |########################################################################|\n"
     ]
    },
    {
     "name": "stdout",
     "output_type": "stream",
     "text": [
      "7: 22074.모드콜에스연질캡슐\n"
     ]
    },
    {
     "name": "stderr",
     "output_type": "stream",
     "text": [
      "100% |########################################################################|\n"
     ]
    },
    {
     "name": "stdout",
     "output_type": "stream",
     "text": [
      "8: 22408.이지엔6프로연질캡슐\n"
     ]
    },
    {
     "name": "stderr",
     "output_type": "stream",
     "text": [
      "100% |########################################################################|\n"
     ]
    },
    {
     "name": "stdout",
     "output_type": "stream",
     "text": [
      "9: 22605.타이레놀정500밀리그람\n"
     ]
    },
    {
     "name": "stderr",
     "output_type": "stream",
     "text": [
      "100% |########################################################################|\n"
     ]
    }
   ],
   "source": [
    "'''\n",
    "배경 제거\n",
    "\n",
    "0.약이름_crop 폴더에 있는 _crop 이미지를,\n",
    "배경을 제거하고 0.약이름_black 폴더에 저장\n",
    "'''\n",
    "import progressbar\n",
    "import shutil\n",
    "import time\n",
    "\n",
    "for i in range(len(src_name)):\n",
    "    print(f'{i}: {src_name[i]}')\n",
    "    time.sleep(0.5)\n",
    "    \n",
    "    # _crop 디렉토리 경로\n",
    "    crop_dir_name = src_name[i] + '_crop'\n",
    "    crop_dir = os.path.join(des_root_dir, crop_dir_name)\n",
    "    \n",
    "    # _crop 디렉토리가 없으면 중지\n",
    "    if os.path.isdir(crop_dir) == False:\n",
    "        print('_crop 디렉토리 없음:', crop_dir)\n",
    "        break\n",
    "        \n",
    "    # _black 디렉토리 만들기\n",
    "    black_dir = crop_dir.replace('_crop', '_black')\n",
    "    f_create_dir(black_dir)\n",
    "\n",
    "    # _crop 디렉토리에서 이미지, xml 파일 읽기\n",
    "    images, annotations, images_ext = read_train_dataset_2(crop_dir)\n",
    "    \n",
    "    bar = progressbar.ProgressBar(maxval=len(images)).start()\n",
    "    for idx in range(len(images)):\n",
    "        \n",
    "        img_data = images[idx]\n",
    "        bbox = annotations[idx][0][0][1:]\n",
    "        xml_file = annotations[idx][1]\n",
    "        img_ext = images_ext[idx]\n",
    "        \n",
    "        # _crop 이미지 배경 제거\n",
    "        img_data = f_img_bgd_cut(img_data, bbox, img_ext)\n",
    "        \n",
    "        # _black 이미지 저장\n",
    "        img_file = xml_file.replace(xml_file.split('.')[-1], img_ext)\n",
    "        img_file = img_file.replace('_crop', '_black')\n",
    "        img_path = os.path.join(black_dir, img_file)\n",
    "        \n",
    "        f_save_img(img_path, img_data)\n",
    "            \n",
    "        # _crop 디렉토리의 xml 파일을 _black 디렉토리로 복사\n",
    "        xml_path = os.path.join(crop_dir, xml_file)\n",
    "        black_xml_file = xml_file.replace('_crop_', '_black_')\n",
    "        black_xml_path = os.path.join(black_dir, black_xml_file)\n",
    "        shutil.copyfile(xml_path, black_xml_path)\n",
    "        \n",
    "        \n",
    "        bar.update(idx)\n",
    "        \n",
    "    bar.finish()\n"
   ]
  },
  {
   "cell_type": "code",
   "execution_count": 21,
   "id": "2ea28d6e",
   "metadata": {
    "id": "2ea28d6e",
    "outputId": "59b8d391-7205-43bb-df0b-eb3f156ce1ba",
    "scrolled": false
   },
   "outputs": [
    {
     "name": "stdout",
     "output_type": "stream",
     "text": [
      "9: 12063.한미오메가연질캡슐1000밀리그램_black\n"
     ]
    },
    {
     "name": "stderr",
     "output_type": "stream",
     "text": [
      "C:\\Users\\ROH-GRAM\\anaconda3\\lib\\site-packages\\imgaug\\imgaug.py:106: DeprecationWarning: Usage of argument 'thickness' in BoundingBox.draw_on_image() is deprecated. The argument was renamed to 'size'.\n",
      "  warn(msg, category=DeprecationWarning, stacklevel=stacklevel)\n",
      "C:\\Users\\ROH-GRAM\\anaconda3\\lib\\site-packages\\imgaug\\imgaug.py:106: DeprecationWarning: Usage of argument 'thickness' in BoundingBox.draw_on_image() is deprecated. The argument was renamed to 'size'.\n",
      "  warn(msg, category=DeprecationWarning, stacklevel=stacklevel)\n",
      "100% |########################################################################|\n"
     ]
    },
    {
     "name": "stdout",
     "output_type": "stream",
     "text": [
      "0: 12063.한미오메가연질캡슐1000밀리그램_crop\n"
     ]
    },
    {
     "name": "stderr",
     "output_type": "stream",
     "text": [
      "100% |########################################################################|\n"
     ]
    },
    {
     "name": "stdout",
     "output_type": "stream",
     "text": [
      "0: 17159.제스부틴정_black\n"
     ]
    },
    {
     "name": "stderr",
     "output_type": "stream",
     "text": [
      "100% |########################################################################|\n"
     ]
    },
    {
     "name": "stdout",
     "output_type": "stream",
     "text": [
      "0: 17159.제스부틴정_crop\n"
     ]
    },
    {
     "name": "stderr",
     "output_type": "stream",
     "text": [
      "100% |########################################################################|\n"
     ]
    },
    {
     "name": "stdout",
     "output_type": "stream",
     "text": [
      "0: 17458.캐롤비콜드연질캡슐_black\n"
     ]
    },
    {
     "name": "stderr",
     "output_type": "stream",
     "text": [
      "100% |########################################################################|\n"
     ]
    },
    {
     "name": "stdout",
     "output_type": "stream",
     "text": [
      "0: 17458.캐롤비콜드연질캡슐_crop\n"
     ]
    },
    {
     "name": "stderr",
     "output_type": "stream",
     "text": [
      "100% |########################################################################|\n"
     ]
    },
    {
     "name": "stdout",
     "output_type": "stream",
     "text": [
      "0: 2070.탁센연질캡슐(나프록센)_black\n"
     ]
    },
    {
     "name": "stderr",
     "output_type": "stream",
     "text": [
      "100% |########################################################################|\n"
     ]
    },
    {
     "name": "stdout",
     "output_type": "stream",
     "text": [
      "0: 2070.탁센연질캡슐(나프록센)_crop\n"
     ]
    },
    {
     "name": "stderr",
     "output_type": "stream",
     "text": [
      "100% |########################################################################|\n"
     ]
    },
    {
     "name": "stdout",
     "output_type": "stream",
     "text": [
      "0: 22074.모드콜에스연질캡슐_black\n"
     ]
    },
    {
     "name": "stderr",
     "output_type": "stream",
     "text": [
      "100% |########################################################################|\n"
     ]
    },
    {
     "name": "stdout",
     "output_type": "stream",
     "text": [
      "0: 22074.모드콜에스연질캡슐_crop\n"
     ]
    },
    {
     "name": "stderr",
     "output_type": "stream",
     "text": [
      "100% |########################################################################|\n"
     ]
    },
    {
     "name": "stdout",
     "output_type": "stream",
     "text": [
      "0: 22408.이지엔6프로연질캡슐_black\n"
     ]
    },
    {
     "name": "stderr",
     "output_type": "stream",
     "text": [
      "100% |########################################################################|\n"
     ]
    },
    {
     "name": "stdout",
     "output_type": "stream",
     "text": [
      "0: 22408.이지엔6프로연질캡슐_crop\n"
     ]
    },
    {
     "name": "stderr",
     "output_type": "stream",
     "text": [
      "100% |########################################################################|\n"
     ]
    },
    {
     "name": "stdout",
     "output_type": "stream",
     "text": [
      "0: 22605.타이레놀정500밀리그람_black\n"
     ]
    },
    {
     "name": "stderr",
     "output_type": "stream",
     "text": [
      "100% |########################################################################|\n"
     ]
    },
    {
     "name": "stdout",
     "output_type": "stream",
     "text": [
      "0: 22605.타이레놀정500밀리그람_crop\n"
     ]
    },
    {
     "name": "stderr",
     "output_type": "stream",
     "text": [
      "100% |########################################################################|\n"
     ]
    },
    {
     "name": "stdout",
     "output_type": "stream",
     "text": [
      "0: 3324.로프민캡슐_black\n"
     ]
    },
    {
     "name": "stderr",
     "output_type": "stream",
     "text": [
      "100% |########################################################################|\n"
     ]
    },
    {
     "name": "stdout",
     "output_type": "stream",
     "text": [
      "0: 3324.로프민캡슐_crop\n"
     ]
    },
    {
     "name": "stderr",
     "output_type": "stream",
     "text": [
      "100% |########################################################################|\n"
     ]
    },
    {
     "name": "stdout",
     "output_type": "stream",
     "text": [
      "0: 3982.애드빌정(이부프로펜)_black\n"
     ]
    },
    {
     "name": "stderr",
     "output_type": "stream",
     "text": [
      "100% |########################################################################|\n"
     ]
    },
    {
     "name": "stdout",
     "output_type": "stream",
     "text": [
      "0: 3982.애드빌정(이부프로펜)_crop\n"
     ]
    },
    {
     "name": "stderr",
     "output_type": "stream",
     "text": [
      "100% |########################################################################|\n"
     ]
    },
    {
     "name": "stdout",
     "output_type": "stream",
     "text": [
      "0: 8998.이소티논연질캡슐10밀리그램_black\n"
     ]
    },
    {
     "name": "stderr",
     "output_type": "stream",
     "text": [
      "100% |########################################################################|\n"
     ]
    },
    {
     "name": "stdout",
     "output_type": "stream",
     "text": [
      "0: 8998.이소티논연질캡슐10밀리그램_crop\n"
     ]
    },
    {
     "name": "stderr",
     "output_type": "stream",
     "text": [
      "100% |########################################################################|\n"
     ]
    }
   ],
   "source": [
    "'''\n",
    "이미지 증강\n",
    "_crop, _black 디렉토리의 이미지 데이터들을\n",
    "aug 디렉토리에 일정 수 만큼 증강\n",
    "'''\n",
    "import imgaug as ia\n",
    "from pascal_voc_writer import Writer\n",
    "import progressbar\n",
    "import time\n",
    "\n",
    "ia.seed(1)\n",
    "\n",
    "# 증강 할 디렉토리 이름 가져오기\n",
    "src_dir_names = f_dir_list(des_root_dir)\n",
    "\n",
    "for dir_idx, dir_name in enumerate(src_dir_names):\n",
    "    \n",
    "    # 각 디렉토리 안에 aug 디렉토리 만들기\n",
    "    des_dir = os.path.join(des_root_dir, dir_name)\n",
    "    des_aug_dir = os.path.join(des_dir, 'aug')\n",
    "    f_create_dir(des_aug_dir)\n",
    "    \n",
    "    # 이미지, xml 파일 데이터 읽어오기\n",
    "    images, annotations, images_ext = read_train_dataset_2(des_dir)\n",
    "    \n",
    "    print(f'{dir_idx}: {dir_name}')\n",
    "    time.sleep(0.3)\n",
    "    \n",
    "    bar = progressbar.ProgressBar(maxval=len(images)).start()\n",
    "    for idx in range(len(images)):\n",
    "        \n",
    "        image = images[idx]\n",
    "        boxes = annotations[idx][0]\n",
    "        names = annotations[idx][0][0][0]\n",
    "        xml_file = annotations[idx][1]\n",
    "        img_ext = images_ext[idx]\n",
    "        \n",
    "        # 바운딩 박스\n",
    "        ia_bounding_boxes = []\n",
    "        for box in boxes:\n",
    "            ia_bounding_boxes.append(ia.BoundingBox(x1=box[1], y1=box[2], x2=box[3], y2=box[4]))\n",
    "        bbs = ia.BoundingBoxesOnImage(ia_bounding_boxes, shape=image.shape)\n",
    "        \n",
    "        # before    bbox 좌표 출력\n",
    "        # for i in range(len(bbs.bounding_boxes)):\n",
    "        #     before = bbs.bounding_boxes[i]\n",
    "            # print('BB %d: %.4f, %.4f, %.4f, %.4f'%\n",
    "            #       (i, before.x1, before.y1, before.x2, before.y2)\n",
    "            #       )\n",
    "            \n",
    "        # before    알파 채널이 있으면 제거\n",
    "        if image.shape[2] == 4:\n",
    "            image = cv2.cvtColor(image, cv2.COLOR_RGBA2RGB)\n",
    "        \n",
    "        # before    이미지 출력\n",
    "        image_before = bbs.draw_on_image(image, thickness=2)\n",
    "        h, w = image_before.shape[0:2]\n",
    "        # plt.imshow(image_before)\n",
    "        \n",
    "        # after\n",
    "        for num, aug_i in enumerate(aug_list):\n",
    "            \n",
    "            # 이미지 변환 시퀀셜 가져오기\n",
    "            seq = aug_i\n",
    "\n",
    "            seq_det = seq.to_deterministic()\n",
    "\n",
    "            image_aug = seq_det.augment_images([image])[0]      # 이미지 정보\n",
    "            bbs_aug = seq_det.augment_bounding_boxes([bbs])[0]  # bbox 정보\n",
    "\n",
    "            # after     bbox 좌표 출력\n",
    "            # for i in range(len(bbs.bounding_boxes)):\n",
    "            #     after = bbs_aug.bounding_boxes[i]\n",
    "\n",
    "                # print('BB %d: %.4f, %.4f, %.4f, %.4f'%\n",
    "                #       (i, after.x1, after.y1, after.x2, after.y2)\n",
    "                #       )\n",
    "\n",
    "            # after     bbox 그리기\n",
    "            # image_after = bbs_aug.draw_on_image(image_aug, thickness=10, color=[0, 0, 255])\n",
    "\n",
    "            # after    이미지 출력\n",
    "            # cv2_imshow(cv2.resize(image_after, (print_w, print_h)))\n",
    "            # cv2.waitKey(0)\n",
    "            \n",
    "            # 저장할 파일명 예) after0_0.알약명_crop_000.\n",
    "            aug_name = 'after' + str(num+1) + '_'\n",
    "            aug_name = aug_name + xml_file.replace('xml', '')\n",
    "            save_path = os.path.join(des_aug_dir, aug_name)\n",
    "            \n",
    "            # 이미지 저장\n",
    "            img_save_path = save_path + img_ext\n",
    "            f_save_img(img_save_path, image_aug)\n",
    "            \n",
    "            # xml 저장\n",
    "            voc_writer = Writer(aug_name, w, h)\n",
    "\n",
    "            for i in range(len(bbs_aug.bounding_boxes)):\n",
    "                bb_box = bbs_aug.bounding_boxes[i]\n",
    "                voc_writer.addObject(boxes[i][0], int(bb_box.x1), int(bb_box.y1), int(bb_box.x2), int(bb_box.y2))\n",
    "                \n",
    "            xml_save_path = save_path + 'xml'\n",
    "            voc_writer.save(xml_save_path)\n",
    "            \n",
    "        bar.update(idx)\n",
    "        \n",
    "    bar.finish()"
   ]
  },
  {
   "cell_type": "code",
   "execution_count": null,
   "id": "87fc8293",
   "metadata": {
    "id": "87fc8293"
   },
   "outputs": [],
   "source": []
  },
  {
   "cell_type": "code",
   "execution_count": null,
   "id": "QzMts1N8GrEg",
   "metadata": {
    "id": "QzMts1N8GrEg"
   },
   "outputs": [],
   "source": []
  },
  {
   "cell_type": "code",
   "execution_count": null,
   "id": "751Pa1cqGOSu",
   "metadata": {
    "id": "751Pa1cqGOSu"
   },
   "outputs": [],
   "source": []
  }
 ],
 "metadata": {
  "colab": {
   "collapsed_sections": [],
   "name": "imgaug_practice_v2_colab.ipynb",
   "provenance": []
  },
  "kernelspec": {
   "display_name": "Python 3 (ipykernel)",
   "language": "python",
   "name": "python3"
  },
  "language_info": {
   "codemirror_mode": {
    "name": "ipython",
    "version": 3
   },
   "file_extension": ".py",
   "mimetype": "text/x-python",
   "name": "python",
   "nbconvert_exporter": "python",
   "pygments_lexer": "ipython3",
   "version": "3.9.12"
  }
 },
 "nbformat": 4,
 "nbformat_minor": 5
}
